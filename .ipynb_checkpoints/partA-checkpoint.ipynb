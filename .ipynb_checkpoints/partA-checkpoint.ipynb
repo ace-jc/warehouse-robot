{
 "cells": [
  {
   "cell_type": "code",
   "execution_count": 56,
   "metadata": {
    "collapsed": false
   },
   "outputs": [],
   "source": [
    "#\n",
    "# === Introduction ===\n",
    "#\n",
    "# In this problem, you will build a planner that helps a robot\n",
    "#   find the best path through a warehouse filled with boxes\n",
    "#   that it has to pick up and deliver to a dropzone.\n",
    "# \n",
    "# Your file must be called `partA.py` and must have a class\n",
    "#   called `DeliveryPlanner`.\n",
    "# This class must have an `__init__` function that takes three \n",
    "#   arguments: `self`, `warehouse`, and `todo`.\n",
    "# The class must also have a function called `plan_delivery` that \n",
    "#   takes a single argument, `self`.\n",
    "#\n",
    "# === Input Specifications ===\n",
    "# \n",
    "# `warehouse` will be a list of m strings, each with n characters,\n",
    "#   corresponding to the layout of the warehouse. The warehouse is an\n",
    "#   m x n grid. warehouse[i][j] corresponds to the spot in the ith row\n",
    "#   and jth column of the warehouse, where the 0th row is the northern\n",
    "#   end of the warehouse and the 0th column is the western end.\n",
    "#\n",
    "# The characters in each string will be one of the following:\n",
    "#\n",
    "# '.' (period) : traversable space. The robot may enter from any adjacent space.\n",
    "# '#' (hash) : a wall. The robot cannot enter this space.\n",
    "# '@' (dropzone): the starting point for the robot and the space where all boxes must be delivered.\n",
    "#   The dropzone may be traversed like a '.' space.\n",
    "# [0-9a-zA-Z] (any alphanumeric character) : a box. At most one of each alphanumeric character \n",
    "#   will be present in the warehouse (meaning there will be at most 62 boxes). A box may not\n",
    "#   be traversed, but if the robot is adjacent to the box, the robot can pick up the box.\n",
    "#   Once the box has been removed, the space functions as a '.' space.\n",
    "# \n",
    "# For example, \n",
    "#   warehouse = ['1#2',\n",
    "#                '.#.',\n",
    "#                '..@']\n",
    "#   is a 3x3 warehouse. The dropzone is at space (2,2), box '1' is located at space (0,0), \n",
    "#   box '2' is located at space (0,2), and there are walls at spaces (0,1) and (1,1). The\n",
    "#   rest of the warehouse is empty space.\n",
    "#\n",
    "# The argument `todo` is a list of alphanumeric characters giving the order in which the \n",
    "#   boxes must be delivered to the dropzone. For example, if \n",
    "#   todo = ['1','2']\n",
    "#   is given with the above example `warehouse`, then the robot must first deliver box '1'\n",
    "#   to the dropzone, and then the robot must deliver box '2' to the dropzone.\n",
    "#\n",
    "# === Rules for Movement ===\n",
    "#\n",
    "# - Two spaces are considered adjacent if they share an edge or a corner.\n",
    "# - The robot may move horizontally or vertically at a cost of 2 per move.\n",
    "# - The robot may move diagonally at a cost of 3 per move.\n",
    "# - The robot may not move outside the warehouse.\n",
    "# - The warehouse does not \"wrap\" around.\n",
    "# - As described earlier, the robot may pick up a box that is in an adjacent square.\n",
    "# - The cost to pick up a box is 4, regardless of the direction the box is relative to the robot.\n",
    "# - While holding a box, the robot may not pick up another box.\n",
    "# - The robot may put a box down on an adjacent empty space ('.') or the dropzone ('@') at a cost\n",
    "#   of 1 (regardless of the direction in which the robot puts down the box).\n",
    "# - If a box is placed on the '@' space, it is considered delivered and is removed from the ware-\n",
    "#   house.\n",
    "# - The warehouse will be arranged so that it is always possible for the robot to move to the \n",
    "#   next box on the todo list without having to rearrange any other boxes.\n",
    "#\n",
    "# An illegal move will incur a cost of 100, and the robot will not move (the standard costs for a \n",
    "#   move will not be additionally incurred). Illegal moves include:\n",
    "# - attempting to move to a nonadjacent, nonexistent, or occupied space\n",
    "# - attempting to pick up a nonadjacent or nonexistent box\n",
    "# - attempting to pick up a box while holding one already\n",
    "# - attempting to put down a box on a nonadjacent, nonexistent, or occupied space\n",
    "# - attempting to put down a box while not holding one\n",
    "#\n",
    "# === Output Specifications ===\n",
    "#\n",
    "# `plan_delivery` should return a LIST of moves that minimizes the total cost of completing\n",
    "#   the task successfully.\n",
    "# Each move should be a string formatted as follows:\n",
    "#\n",
    "# 'move {i} {j}', where '{i}' is replaced by the row-coordinate of the space the robot moves\n",
    "#   to and '{j}' is replaced by the column-coordinate of the space the robot moves to\n",
    "# \n",
    "# 'lift {x}', where '{x}' is replaced by the alphanumeric character of the box being picked up\n",
    "#\n",
    "# 'down {i} {j}', where '{i}' is replaced by the row-coordinate of the space the robot puts \n",
    "#   the box, and '{j}' is replaced by the column-coordinate of the space the robot puts the box\n",
    "#\n",
    "# For example, for the values of `warehouse` and `todo` given previously (reproduced below):\n",
    "#   warehouse = ['1#2',\n",
    "#                '.#.',\n",
    "#                '..@']\n",
    "#   todo = ['1','2']\n",
    "# `plan_delivery` might return the following:\n",
    "#   ['move 2 1',\n",
    "#    'move 1 0',\n",
    "#    'lift 1',\n",
    "#    'move 2 1',\n",
    "#    'down 2 2',\n",
    "#    'move 1 2',\n",
    "#    'lift 2',\n",
    "#    'down 2 2']\n",
    "#\n",
    "# === Grading ===\n",
    "# \n",
    "# - Your planner will be graded against a set of test cases, each equally weighted.\n",
    "# - If your planner returns a list of moves of total cost that is K times the minimum cost of \n",
    "#   successfully completing the task, you will receive 1/K of the credit for that test case.\n",
    "# - Otherwise, you will receive no credit for that test case. This could happen for one of several \n",
    "#   reasons including (but not necessarily limited to):\n",
    "#   - plan_delivery's moves do not deliver the boxes in the correct order.\n",
    "#   - plan_delivery's output is not a list of strings in the prescribed format.\n",
    "#   - plan_delivery does not return an output within the prescribed time limit.\n",
    "#   - Your code raises an exception.\n",
    "#\n",
    "# === Additional Info ===\n",
    "# \n",
    "# - You may add additional classes and functions as needed provided they are all in the file `partA.py`.ipynb_checkpoints/\n",
    "# - Upload partA.py to Project 2 on T-Square in the Assignments section. Do not put it into an \n",
    "#   archive with other files.\n",
    "# - Ask any questions about the directions or specifications on Piazza.\n",
    "#\n",
    "\n",
    "class DeliveryPlanner:\n",
    "\n",
    "    def __init__(self, warehouse, todo):\n",
    "        self.warehouse = warehouse\n",
    "        self.todo = todo\n",
    "        self.dropzone = self.find_dropzone(warehouse)\n",
    "        self.find_box(warehouse, todo)\n",
    "        self.todo_box = self.find_box(warehouse, todo)\n",
    "\n",
    "    def find_dropzone(self, warehouse):\n",
    "        for i in range(len(self.warehouse)):\n",
    "            for j in range(len(self.warehouse[0])):\n",
    "                if self.warehouse[i][j] == '@':\n",
    "                    return [i,j]\n",
    "        print 'No dropzone is found!'\n",
    "                \n",
    "    def find_box(self, warehouse, todo):\n",
    "        todo_box = []\n",
    "        for i in range(len(self.todo)):\n",
    "            for j in range(len(self.warehouse)):\n",
    "                for k in range(len(self.warehouse[0])):\n",
    "                    if self.warehouse[j][k] == self.todo[i]:\n",
    "                        todo_box.append([j,k])\n",
    "        return todo_box               \n",
    "        print 'No box is found!'\n",
    "    \n",
    "    def compute_value(self):\n",
    "        \n",
    "        delta = [[-1, 0], # go up\n",
    "                 [ 0,-1], # go left\n",
    "                 [ 1, 0], # go down\n",
    "                 [ 0, 1], # go right\n",
    "                 [-1,-1], # go up-left\n",
    "                 [ 1,-1], # go down-left\n",
    "                 [ 1, 1], # go down-right\n",
    "                 [-1, 1]] # go up-right\n",
    "        cost_step = [2, 2, 2, 2, 3, 3, 3, 3]\n",
    "        \n",
    "        self.value = [[99 for row in range(len(self.warehouse[0]))] for col in range(len(self.warehouse))]\n",
    "        self.policy = [[' ' for col in range(len(grid[0]))] for row in range(len(grid))]\n",
    "\n",
    "        self.value[self.dropzone[0]][self.dropzone[1]] = 0\n",
    "        change = True\n",
    "\n",
    "        while change:\n",
    "            change = False\n",
    "            \n",
    "            for x in range(len(self.warehouse)):\n",
    "                for y in range(len(self.warehouse[0])):\n",
    "                    if [x,y] != self.dropzone:\n",
    "\n",
    "                        for a in range(len(delta)):\n",
    "                            x2 = x + delta[a][0]\n",
    "                            y2 = y + delta[a][1]\n",
    "\n",
    "                            if x2 >= 0 and x2 < len(self.warehouse)\\\n",
    "                            and y2 >= 0 and y2 < len(self.warehouse[0]) and\\\n",
    "                            (self.warehouse[x2][y2] == '.' or [x2,y2] == self.dropzone):\n",
    "    \n",
    "                                v2 = self.value[x2][y2] + cost_step[a]\n",
    "                                if v2 < self.value[x][y]:\n",
    "                                    change = True\n",
    "                                    self.value[x][y] = v2\n",
    "\n",
    "        for i in range(len(self.value)):\n",
    "            print self.value[i]\n",
    "\n",
    "        return self.value\n",
    "    \n",
    "    \n",
    "    def plan_delivery(self):\n",
    "        cost = 0\n",
    "        for i in range(len(self.todo_box)):\n",
    "            m, n = self.todo_box[i]\n",
    "            self.warehouse[m][n] = '.'\n",
    "            cost = cost+2*self.value[m][n]\n",
    "            for i in range(len(self.warehouse)):\n",
    "                    print self.warehouse[i]\n",
    "            \n",
    "\n",
    "        \n",
    "        moves = ['move 2 1',\n",
    "                 'move 1 0',\n",
    "                 'lift 1',\n",
    "                 'move 2 1',\n",
    "                 'down 2 2',\n",
    "                 'move 1 2',\n",
    "                 'lift 2',\n",
    "                 'down 2 2']\n",
    "\n",
    "        return cost\n"
   ]
  },
  {
   "cell_type": "code",
   "execution_count": 70,
   "metadata": {
    "collapsed": false
   },
   "outputs": [],
   "source": [
    "warehouse1 = [[ '.', '1', '2'],\n",
    "             [ '.', '#', '.'],\n",
    "             [ '.', '@', '3'],\n",
    "             [ '.', '.', '4']]\n",
    "\n",
    "todo1 = ['1', '2','3','4']\n",
    "\n",
    "a = DeliveryPlanner(warehouse1, todo1)"
   ]
  },
  {
   "cell_type": "code",
   "execution_count": 71,
   "metadata": {
    "collapsed": false
   },
   "outputs": [
    {
     "name": "stdout",
     "output_type": "stream",
     "text": [
      "[5, 6, 5]\n",
      "[3, 2, 3]\n",
      "[2, 0, 2]\n",
      "[3, 2, 3]\n"
     ]
    },
    {
     "data": {
      "text/plain": [
       "[[5, 6, 5], [3, 2, 3], [2, 0, 2], [3, 2, 3]]"
      ]
     },
     "execution_count": 71,
     "metadata": {},
     "output_type": "execute_result"
    }
   ],
   "source": [
    "a.compute_value()"
   ]
  },
  {
   "cell_type": "code",
   "execution_count": 72,
   "metadata": {
    "collapsed": false
   },
   "outputs": [
    {
     "data": {
      "text/plain": [
       "[[0, 1], [0, 2], [2, 2], [3, 2]]"
      ]
     },
     "execution_count": 72,
     "metadata": {},
     "output_type": "execute_result"
    }
   ],
   "source": [
    "a.find_box(warehouse1, todo1)"
   ]
  },
  {
   "cell_type": "code",
   "execution_count": 73,
   "metadata": {
    "collapsed": false
   },
   "outputs": [
    {
     "name": "stdout",
     "output_type": "stream",
     "text": [
      "['.', '.', '2']\n",
      "['.', '#', '.']\n",
      "['.', '@', '3']\n",
      "['.', '.', '4']\n",
      "['.', '.', '.']\n",
      "['.', '#', '.']\n",
      "['.', '@', '3']\n",
      "['.', '.', '4']\n",
      "['.', '.', '.']\n",
      "['.', '#', '.']\n",
      "['.', '@', '.']\n",
      "['.', '.', '4']\n",
      "['.', '.', '.']\n",
      "['.', '#', '.']\n",
      "['.', '@', '.']\n",
      "['.', '.', '.']\n"
     ]
    },
    {
     "data": {
      "text/plain": [
       "32"
      ]
     },
     "execution_count": 73,
     "metadata": {},
     "output_type": "execute_result"
    }
   ],
   "source": [
    "a.plan_delivery()"
   ]
  },
  {
   "cell_type": "code",
   "execution_count": null,
   "metadata": {
    "collapsed": true
   },
   "outputs": [],
   "source": []
  }
 ],
 "metadata": {
  "anaconda-cloud": {},
  "kernelspec": {
   "display_name": "Python [conda env:py27]",
   "language": "python",
   "name": "conda-env-py27-py"
  },
  "language_info": {
   "codemirror_mode": {
    "name": "ipython",
    "version": 2
   },
   "file_extension": ".py",
   "mimetype": "text/x-python",
   "name": "python",
   "nbconvert_exporter": "python",
   "pygments_lexer": "ipython2",
   "version": "2.7.13"
  }
 },
 "nbformat": 4,
 "nbformat_minor": 1
}
